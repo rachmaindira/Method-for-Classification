{
  "nbformat": 4,
  "nbformat_minor": 0,
  "metadata": {
    "colab": {
      "name": "Tugas DTI.ipynb",
      "provenance": []
    },
    "kernelspec": {
      "name": "python3",
      "display_name": "Python 3"
    }
  },
  "cells": [
    {
      "cell_type": "markdown",
      "metadata": {
        "id": "t2ubvPXl7FMp"
      },
      "source": [
        "# **Rachma Indira - DS0218**"
      ]
    },
    {
      "cell_type": "markdown",
      "metadata": {
        "id": "clfX75kXxOtT"
      },
      "source": [
        "# Imporrt dataset dan library"
      ]
    },
    {
      "cell_type": "code",
      "metadata": {
        "id": "sMOZs1fy65aG"
      },
      "source": [
        "import pandas as pd\n",
        "import numpy as np\n",
        "import csv"
      ],
      "execution_count": 1,
      "outputs": []
    },
    {
      "cell_type": "code",
      "metadata": {
        "id": "jt6upnWb7Khh"
      },
      "source": [
        "data = pd.read_csv('bank.csv')"
      ],
      "execution_count": 2,
      "outputs": []
    },
    {
      "cell_type": "code",
      "metadata": {
        "id": "gZc4DT12xKh8",
        "outputId": "b69a7a3c-e7f4-4fde-9ffd-13bfbf8a1f2d",
        "colab": {
          "base_uri": "https://localhost:8080/",
          "height": 204
        }
      },
      "source": [
        "data.head(5)"
      ],
      "execution_count": 3,
      "outputs": [
        {
          "output_type": "execute_result",
          "data": {
            "text/html": [
              "<div>\n",
              "<style scoped>\n",
              "    .dataframe tbody tr th:only-of-type {\n",
              "        vertical-align: middle;\n",
              "    }\n",
              "\n",
              "    .dataframe tbody tr th {\n",
              "        vertical-align: top;\n",
              "    }\n",
              "\n",
              "    .dataframe thead th {\n",
              "        text-align: right;\n",
              "    }\n",
              "</style>\n",
              "<table border=\"1\" class=\"dataframe\">\n",
              "  <thead>\n",
              "    <tr style=\"text-align: right;\">\n",
              "      <th></th>\n",
              "      <th>age</th>\n",
              "      <th>job</th>\n",
              "      <th>marital</th>\n",
              "      <th>education</th>\n",
              "      <th>default</th>\n",
              "      <th>balance</th>\n",
              "      <th>housing</th>\n",
              "      <th>loan</th>\n",
              "      <th>contact</th>\n",
              "      <th>day</th>\n",
              "      <th>month</th>\n",
              "      <th>duration</th>\n",
              "      <th>campaign</th>\n",
              "      <th>pdays</th>\n",
              "      <th>previous</th>\n",
              "      <th>poutcome</th>\n",
              "      <th>deposit</th>\n",
              "    </tr>\n",
              "  </thead>\n",
              "  <tbody>\n",
              "    <tr>\n",
              "      <th>0</th>\n",
              "      <td>59</td>\n",
              "      <td>admin.</td>\n",
              "      <td>married</td>\n",
              "      <td>secondary</td>\n",
              "      <td>no</td>\n",
              "      <td>2343</td>\n",
              "      <td>yes</td>\n",
              "      <td>no</td>\n",
              "      <td>unknown</td>\n",
              "      <td>5</td>\n",
              "      <td>may</td>\n",
              "      <td>1042</td>\n",
              "      <td>1</td>\n",
              "      <td>-1</td>\n",
              "      <td>0</td>\n",
              "      <td>unknown</td>\n",
              "      <td>yes</td>\n",
              "    </tr>\n",
              "    <tr>\n",
              "      <th>1</th>\n",
              "      <td>56</td>\n",
              "      <td>admin.</td>\n",
              "      <td>married</td>\n",
              "      <td>secondary</td>\n",
              "      <td>no</td>\n",
              "      <td>45</td>\n",
              "      <td>no</td>\n",
              "      <td>no</td>\n",
              "      <td>unknown</td>\n",
              "      <td>5</td>\n",
              "      <td>may</td>\n",
              "      <td>1467</td>\n",
              "      <td>1</td>\n",
              "      <td>-1</td>\n",
              "      <td>0</td>\n",
              "      <td>unknown</td>\n",
              "      <td>yes</td>\n",
              "    </tr>\n",
              "    <tr>\n",
              "      <th>2</th>\n",
              "      <td>41</td>\n",
              "      <td>technician</td>\n",
              "      <td>married</td>\n",
              "      <td>secondary</td>\n",
              "      <td>no</td>\n",
              "      <td>1270</td>\n",
              "      <td>yes</td>\n",
              "      <td>no</td>\n",
              "      <td>unknown</td>\n",
              "      <td>5</td>\n",
              "      <td>may</td>\n",
              "      <td>1389</td>\n",
              "      <td>1</td>\n",
              "      <td>-1</td>\n",
              "      <td>0</td>\n",
              "      <td>unknown</td>\n",
              "      <td>yes</td>\n",
              "    </tr>\n",
              "    <tr>\n",
              "      <th>3</th>\n",
              "      <td>55</td>\n",
              "      <td>services</td>\n",
              "      <td>married</td>\n",
              "      <td>secondary</td>\n",
              "      <td>no</td>\n",
              "      <td>2476</td>\n",
              "      <td>yes</td>\n",
              "      <td>no</td>\n",
              "      <td>unknown</td>\n",
              "      <td>5</td>\n",
              "      <td>may</td>\n",
              "      <td>579</td>\n",
              "      <td>1</td>\n",
              "      <td>-1</td>\n",
              "      <td>0</td>\n",
              "      <td>unknown</td>\n",
              "      <td>yes</td>\n",
              "    </tr>\n",
              "    <tr>\n",
              "      <th>4</th>\n",
              "      <td>54</td>\n",
              "      <td>admin.</td>\n",
              "      <td>married</td>\n",
              "      <td>tertiary</td>\n",
              "      <td>no</td>\n",
              "      <td>184</td>\n",
              "      <td>no</td>\n",
              "      <td>no</td>\n",
              "      <td>unknown</td>\n",
              "      <td>5</td>\n",
              "      <td>may</td>\n",
              "      <td>673</td>\n",
              "      <td>2</td>\n",
              "      <td>-1</td>\n",
              "      <td>0</td>\n",
              "      <td>unknown</td>\n",
              "      <td>yes</td>\n",
              "    </tr>\n",
              "  </tbody>\n",
              "</table>\n",
              "</div>"
            ],
            "text/plain": [
              "   age         job  marital  education  ... pdays  previous poutcome deposit\n",
              "0   59      admin.  married  secondary  ...    -1         0  unknown     yes\n",
              "1   56      admin.  married  secondary  ...    -1         0  unknown     yes\n",
              "2   41  technician  married  secondary  ...    -1         0  unknown     yes\n",
              "3   55    services  married  secondary  ...    -1         0  unknown     yes\n",
              "4   54      admin.  married   tertiary  ...    -1         0  unknown     yes\n",
              "\n",
              "[5 rows x 17 columns]"
            ]
          },
          "metadata": {
            "tags": []
          },
          "execution_count": 3
        }
      ]
    },
    {
      "cell_type": "markdown",
      "metadata": {
        "id": "mij7chlCxiIl"
      },
      "source": [
        "# Proses encode"
      ]
    },
    {
      "cell_type": "code",
      "metadata": {
        "id": "SGQD3bCCmT_w",
        "outputId": "3c7bea76-5fec-4502-9d50-a4a5559ea85e",
        "colab": {
          "base_uri": "https://localhost:8080/",
          "height": 328
        }
      },
      "source": [
        "data.dtypes"
      ],
      "execution_count": 4,
      "outputs": [
        {
          "output_type": "execute_result",
          "data": {
            "text/plain": [
              "age           int64\n",
              "job          object\n",
              "marital      object\n",
              "education    object\n",
              "default      object\n",
              "balance       int64\n",
              "housing      object\n",
              "loan         object\n",
              "contact      object\n",
              "day           int64\n",
              "month        object\n",
              "duration      int64\n",
              "campaign      int64\n",
              "pdays         int64\n",
              "previous      int64\n",
              "poutcome     object\n",
              "deposit      object\n",
              "dtype: object"
            ]
          },
          "metadata": {
            "tags": []
          },
          "execution_count": 4
        }
      ]
    },
    {
      "cell_type": "code",
      "metadata": {
        "id": "iZaSsONakZr5"
      },
      "source": [
        "from sklearn import preprocessing\n",
        "le1 = preprocessing.LabelEncoder()\n",
        "data['job'] =le1.fit_transform(data['job'])\n",
        "data['marital'] =le1.fit_transform(data['marital'])\n",
        "data['education'] =le1.fit_transform(data['education'])\n",
        "data['default'] =le1.fit_transform(data['default'])\n",
        "data['housing'] =le1.fit_transform(data['housing'])\n",
        "data['loan'] =le1.fit_transform(data['loan'])\n",
        "data['contact'] =le1.fit_transform(data['contact'])\n",
        "data['month'] =le1.fit_transform(data['month'])\n",
        "data['poutcome'] =le1.fit_transform(data['poutcome'])\n",
        "data['deposit'] =le1.fit_transform(data['deposit'])"
      ],
      "execution_count": 5,
      "outputs": []
    },
    {
      "cell_type": "markdown",
      "metadata": {
        "id": "d4HtjcyaxS2_"
      },
      "source": [
        "# Data Exploration"
      ]
    },
    {
      "cell_type": "code",
      "metadata": {
        "id": "L6QImkaFmjMp",
        "outputId": "f116d30a-8121-4ba9-f031-b4cb3e1d0723",
        "colab": {
          "base_uri": "https://localhost:8080/",
          "height": 328
        }
      },
      "source": [
        "data.isnull().sum()"
      ],
      "execution_count": 6,
      "outputs": [
        {
          "output_type": "execute_result",
          "data": {
            "text/plain": [
              "age          0\n",
              "job          0\n",
              "marital      0\n",
              "education    0\n",
              "default      0\n",
              "balance      0\n",
              "housing      0\n",
              "loan         0\n",
              "contact      0\n",
              "day          0\n",
              "month        0\n",
              "duration     0\n",
              "campaign     0\n",
              "pdays        0\n",
              "previous     0\n",
              "poutcome     0\n",
              "deposit      0\n",
              "dtype: int64"
            ]
          },
          "metadata": {
            "tags": []
          },
          "execution_count": 6
        }
      ]
    },
    {
      "cell_type": "code",
      "metadata": {
        "id": "k9V3qzZL7iek",
        "outputId": "df9bc35e-a57d-46f2-e907-7b02ba841661",
        "colab": {
          "base_uri": "https://localhost:8080/",
          "height": 297
        }
      },
      "source": [
        "data.desc"
      ],
      "execution_count": 7,
      "outputs": [
        {
          "output_type": "execute_result",
          "data": {
            "text/html": [
              "<div>\n",
              "<style scoped>\n",
              "    .dataframe tbody tr th:only-of-type {\n",
              "        vertical-align: middle;\n",
              "    }\n",
              "\n",
              "    .dataframe tbody tr th {\n",
              "        vertical-align: top;\n",
              "    }\n",
              "\n",
              "    .dataframe thead th {\n",
              "        text-align: right;\n",
              "    }\n",
              "</style>\n",
              "<table border=\"1\" class=\"dataframe\">\n",
              "  <thead>\n",
              "    <tr style=\"text-align: right;\">\n",
              "      <th></th>\n",
              "      <th>age</th>\n",
              "      <th>balance</th>\n",
              "      <th>day</th>\n",
              "      <th>duration</th>\n",
              "      <th>campaign</th>\n",
              "      <th>pdays</th>\n",
              "      <th>previous</th>\n",
              "    </tr>\n",
              "  </thead>\n",
              "  <tbody>\n",
              "    <tr>\n",
              "      <th>count</th>\n",
              "      <td>11162.000000</td>\n",
              "      <td>11162.000000</td>\n",
              "      <td>11162.000000</td>\n",
              "      <td>11162.000000</td>\n",
              "      <td>11162.000000</td>\n",
              "      <td>11162.000000</td>\n",
              "      <td>11162.000000</td>\n",
              "    </tr>\n",
              "    <tr>\n",
              "      <th>mean</th>\n",
              "      <td>41.231948</td>\n",
              "      <td>1528.538524</td>\n",
              "      <td>15.658036</td>\n",
              "      <td>371.993818</td>\n",
              "      <td>2.508421</td>\n",
              "      <td>51.330407</td>\n",
              "      <td>0.832557</td>\n",
              "    </tr>\n",
              "    <tr>\n",
              "      <th>std</th>\n",
              "      <td>11.913369</td>\n",
              "      <td>3225.413326</td>\n",
              "      <td>8.420740</td>\n",
              "      <td>347.128386</td>\n",
              "      <td>2.722077</td>\n",
              "      <td>108.758282</td>\n",
              "      <td>2.292007</td>\n",
              "    </tr>\n",
              "    <tr>\n",
              "      <th>min</th>\n",
              "      <td>18.000000</td>\n",
              "      <td>-6847.000000</td>\n",
              "      <td>1.000000</td>\n",
              "      <td>2.000000</td>\n",
              "      <td>1.000000</td>\n",
              "      <td>-1.000000</td>\n",
              "      <td>0.000000</td>\n",
              "    </tr>\n",
              "    <tr>\n",
              "      <th>25%</th>\n",
              "      <td>32.000000</td>\n",
              "      <td>122.000000</td>\n",
              "      <td>8.000000</td>\n",
              "      <td>138.000000</td>\n",
              "      <td>1.000000</td>\n",
              "      <td>-1.000000</td>\n",
              "      <td>0.000000</td>\n",
              "    </tr>\n",
              "    <tr>\n",
              "      <th>50%</th>\n",
              "      <td>39.000000</td>\n",
              "      <td>550.000000</td>\n",
              "      <td>15.000000</td>\n",
              "      <td>255.000000</td>\n",
              "      <td>2.000000</td>\n",
              "      <td>-1.000000</td>\n",
              "      <td>0.000000</td>\n",
              "    </tr>\n",
              "    <tr>\n",
              "      <th>75%</th>\n",
              "      <td>49.000000</td>\n",
              "      <td>1708.000000</td>\n",
              "      <td>22.000000</td>\n",
              "      <td>496.000000</td>\n",
              "      <td>3.000000</td>\n",
              "      <td>20.750000</td>\n",
              "      <td>1.000000</td>\n",
              "    </tr>\n",
              "    <tr>\n",
              "      <th>max</th>\n",
              "      <td>95.000000</td>\n",
              "      <td>81204.000000</td>\n",
              "      <td>31.000000</td>\n",
              "      <td>3881.000000</td>\n",
              "      <td>63.000000</td>\n",
              "      <td>854.000000</td>\n",
              "      <td>58.000000</td>\n",
              "    </tr>\n",
              "  </tbody>\n",
              "</table>\n",
              "</div>"
            ],
            "text/plain": [
              "                age       balance  ...         pdays      previous\n",
              "count  11162.000000  11162.000000  ...  11162.000000  11162.000000\n",
              "mean      41.231948   1528.538524  ...     51.330407      0.832557\n",
              "std       11.913369   3225.413326  ...    108.758282      2.292007\n",
              "min       18.000000  -6847.000000  ...     -1.000000      0.000000\n",
              "25%       32.000000    122.000000  ...     -1.000000      0.000000\n",
              "50%       39.000000    550.000000  ...     -1.000000      0.000000\n",
              "75%       49.000000   1708.000000  ...     20.750000      1.000000\n",
              "max       95.000000  81204.000000  ...    854.000000     58.000000\n",
              "\n",
              "[8 rows x 7 columns]"
            ]
          },
          "metadata": {
            "tags": []
          },
          "execution_count": 7
        }
      ]
    },
    {
      "cell_type": "code",
      "metadata": {
        "id": "gYLEJkQohkyo",
        "outputId": "d2c75325-0900-48c6-e4cf-158a5a5f91c7",
        "colab": {
          "base_uri": "https://localhost:8080/",
          "height": 328
        }
      },
      "source": [
        "data.dtypes"
      ],
      "execution_count": 9,
      "outputs": [
        {
          "output_type": "execute_result",
          "data": {
            "text/plain": [
              "age          int64\n",
              "job          int64\n",
              "marital      int64\n",
              "education    int64\n",
              "default      int64\n",
              "balance      int64\n",
              "housing      int64\n",
              "loan         int64\n",
              "contact      int64\n",
              "day          int64\n",
              "month        int64\n",
              "duration     int64\n",
              "campaign     int64\n",
              "pdays        int64\n",
              "previous     int64\n",
              "poutcome     int64\n",
              "deposit      int64\n",
              "dtype: object"
            ]
          },
          "metadata": {
            "tags": []
          },
          "execution_count": 9
        }
      ]
    },
    {
      "cell_type": "code",
      "metadata": {
        "id": "lSwf44p6yHlt",
        "outputId": "17c1e832-aad5-4cdf-f14e-5feb446193e3",
        "colab": {
          "base_uri": "https://localhost:8080/",
          "height": 1000
        }
      },
      "source": [
        "import matplotlib.pyplot as plt\n",
        "# data.hist()\n",
        "\n",
        "fig = plt.figure(figsize = (15,20))\n",
        "ax = fig.gca()\n",
        "data.hist(ax = ax)"
      ],
      "execution_count": 15,
      "outputs": [
        {
          "output_type": "stream",
          "text": [
            "/usr/local/lib/python3.6/dist-packages/ipykernel_launcher.py:6: UserWarning: To output multiple subplots, the figure containing the passed axes is being cleared\n",
            "  \n"
          ],
          "name": "stderr"
        },
        {
          "output_type": "execute_result",
          "data": {
            "text/plain": [
              "array([[<matplotlib.axes._subplots.AxesSubplot object at 0x7f7d56f27710>,\n",
              "        <matplotlib.axes._subplots.AxesSubplot object at 0x7f7d56e66fd0>,\n",
              "        <matplotlib.axes._subplots.AxesSubplot object at 0x7f7d56e9e390>,\n",
              "        <matplotlib.axes._subplots.AxesSubplot object at 0x7f7d56e51710>],\n",
              "       [<matplotlib.axes._subplots.AxesSubplot object at 0x7f7d56df5ef0>,\n",
              "        <matplotlib.axes._subplots.AxesSubplot object at 0x7f7d56db72b0>,\n",
              "        <matplotlib.axes._subplots.AxesSubplot object at 0x7f7d56d68630>,\n",
              "        <matplotlib.axes._subplots.AxesSubplot object at 0x7f7d56d9b9b0>],\n",
              "       [<matplotlib.axes._subplots.AxesSubplot object at 0x7f7d56d9ba20>,\n",
              "        <matplotlib.axes._subplots.AxesSubplot object at 0x7f7d56d0d0f0>,\n",
              "        <matplotlib.axes._subplots.AxesSubplot object at 0x7f7d56cbd470>,\n",
              "        <matplotlib.axes._subplots.AxesSubplot object at 0x7f7d56c707f0>],\n",
              "       [<matplotlib.axes._subplots.AxesSubplot object at 0x7f7d56c23b70>,\n",
              "        <matplotlib.axes._subplots.AxesSubplot object at 0x7f7d56c54ef0>,\n",
              "        <matplotlib.axes._subplots.AxesSubplot object at 0x7f7d56c132b0>,\n",
              "        <matplotlib.axes._subplots.AxesSubplot object at 0x7f7d56bc4630>],\n",
              "       [<matplotlib.axes._subplots.AxesSubplot object at 0x7f7d56b769b0>,\n",
              "        <matplotlib.axes._subplots.AxesSubplot object at 0x7f7d56b2bd30>,\n",
              "        <matplotlib.axes._subplots.AxesSubplot object at 0x7f7d56ae90f0>,\n",
              "        <matplotlib.axes._subplots.AxesSubplot object at 0x7f7d56b1b470>]],\n",
              "      dtype=object)"
            ]
          },
          "metadata": {
            "tags": []
          },
          "execution_count": 15
        },
        {
          "output_type": "display_data",
          "data": {
            "image/png": "[encoded data removed]",
            "text/plain": [
              "<Figure size 1080x1440 with 20 Axes>"
            ]
          },
          "metadata": {
            "tags": [],
            "needs_background": "light"
          }
        }
      ]
    },
    {
      "cell_type": "code",
      "metadata": {
        "id": "fv5Q0zanm70u"
      },
      "source": [
        "import seaborn as sns\n",
        "import matplotlib.pyplot as plt"
      ],
      "execution_count": 10,
      "outputs": []
    },
    {
      "cell_type": "code",
      "metadata": {
        "id": "nuISOYGanLdg",
        "outputId": "5510ba73-d7ba-4ef3-b106-fe815d954a78",
        "colab": {
          "base_uri": "https://localhost:8080/",
          "height": 597
        }
      },
      "source": [
        "data.corr()"
      ],
      "execution_count": 11,
      "outputs": [
        {
          "output_type": "execute_result",
          "data": {
            "text/html": [
              "<div>\n",
              "<style scoped>\n",
              "    .dataframe tbody tr th:only-of-type {\n",
              "        vertical-align: middle;\n",
              "    }\n",
              "\n",
              "    .dataframe tbody tr th {\n",
              "        vertical-align: top;\n",
              "    }\n",
              "\n",
              "    .dataframe thead th {\n",
              "        text-align: right;\n",
              "    }\n",
              "</style>\n",
              "<table border=\"1\" class=\"dataframe\">\n",
              "  <thead>\n",
              "    <tr style=\"text-align: right;\">\n",
              "      <th></th>\n",
              "      <th>age</th>\n",
              "      <th>job</th>\n",
              "      <th>marital</th>\n",
              "      <th>education</th>\n",
              "      <th>default</th>\n",
              "      <th>balance</th>\n",
              "      <th>housing</th>\n",
              "      <th>loan</th>\n",
              "      <th>contact</th>\n",
              "      <th>day</th>\n",
              "      <th>month</th>\n",
              "      <th>duration</th>\n",
              "      <th>campaign</th>\n",
              "      <th>pdays</th>\n",
              "      <th>previous</th>\n",
              "      <th>poutcome</th>\n",
              "      <th>deposit</th>\n",
              "    </tr>\n",
              "  </thead>\n",
              "  <tbody>\n",
              "    <tr>\n",
              "      <th>age</th>\n",
              "      <td>1.000000</td>\n",
              "      <td>-0.031603</td>\n",
              "      <td>-0.442782</td>\n",
              "      <td>-0.126018</td>\n",
              "      <td>-0.011425</td>\n",
              "      <td>0.112300</td>\n",
              "      <td>-0.168700</td>\n",
              "      <td>-0.031418</td>\n",
              "      <td>0.027762</td>\n",
              "      <td>-0.000762</td>\n",
              "      <td>-0.026130</td>\n",
              "      <td>0.000189</td>\n",
              "      <td>-0.005278</td>\n",
              "      <td>0.002774</td>\n",
              "      <td>0.020169</td>\n",
              "      <td>-0.002699</td>\n",
              "      <td>0.034901</td>\n",
              "    </tr>\n",
              "    <tr>\n",
              "      <th>job</th>\n",
              "      <td>-0.031603</td>\n",
              "      <td>1.000000</td>\n",
              "      <td>0.078314</td>\n",
              "      <td>0.147046</td>\n",
              "      <td>-0.007066</td>\n",
              "      <td>0.028736</td>\n",
              "      <td>-0.136965</td>\n",
              "      <td>-0.067092</td>\n",
              "      <td>-0.087915</td>\n",
              "      <td>0.026589</td>\n",
              "      <td>-0.076011</td>\n",
              "      <td>0.002432</td>\n",
              "      <td>0.003104</td>\n",
              "      <td>-0.003385</td>\n",
              "      <td>0.012665</td>\n",
              "      <td>-0.004238</td>\n",
              "      <td>0.063395</td>\n",
              "    </tr>\n",
              "    <tr>\n",
              "      <th>marital</th>\n",
              "      <td>-0.442782</td>\n",
              "      <td>0.078314</td>\n",
              "      <td>1.000000</td>\n",
              "      <td>0.125845</td>\n",
              "      <td>-0.014691</td>\n",
              "      <td>-0.002138</td>\n",
              "      <td>-0.036345</td>\n",
              "      <td>-0.062029</td>\n",
              "      <td>-0.060456</td>\n",
              "      <td>-0.003642</td>\n",
              "      <td>-0.004070</td>\n",
              "      <td>0.006781</td>\n",
              "      <td>-0.030794</td>\n",
              "      <td>0.031200</td>\n",
              "      <td>0.031281</td>\n",
              "      <td>-0.039424</td>\n",
              "      <td>0.067610</td>\n",
              "    </tr>\n",
              "    <tr>\n",
              "      <th>education</th>\n",
              "      <td>-0.126018</td>\n",
              "      <td>0.147046</td>\n",
              "      <td>0.125845</td>\n",
              "      <td>1.000000</td>\n",
              "      <td>-0.010709</td>\n",
              "      <td>0.051728</td>\n",
              "      <td>-0.109168</td>\n",
              "      <td>-0.073154</td>\n",
              "      <td>-0.132540</td>\n",
              "      <td>0.016759</td>\n",
              "      <td>-0.055868</td>\n",
              "      <td>-0.019122</td>\n",
              "      <td>-0.005327</td>\n",
              "      <td>0.025165</td>\n",
              "      <td>0.022427</td>\n",
              "      <td>-0.040262</td>\n",
              "      <td>0.095948</td>\n",
              "    </tr>\n",
              "    <tr>\n",
              "      <th>default</th>\n",
              "      <td>-0.011425</td>\n",
              "      <td>-0.007066</td>\n",
              "      <td>-0.014691</td>\n",
              "      <td>-0.010709</td>\n",
              "      <td>1.000000</td>\n",
              "      <td>-0.060954</td>\n",
              "      <td>0.011076</td>\n",
              "      <td>0.076434</td>\n",
              "      <td>0.035709</td>\n",
              "      <td>0.017342</td>\n",
              "      <td>0.000950</td>\n",
              "      <td>-0.009760</td>\n",
              "      <td>0.030975</td>\n",
              "      <td>-0.036282</td>\n",
              "      <td>-0.035273</td>\n",
              "      <td>0.042357</td>\n",
              "      <td>-0.040680</td>\n",
              "    </tr>\n",
              "    <tr>\n",
              "      <th>balance</th>\n",
              "      <td>0.112300</td>\n",
              "      <td>0.028736</td>\n",
              "      <td>-0.002138</td>\n",
              "      <td>0.051728</td>\n",
              "      <td>-0.060954</td>\n",
              "      <td>1.000000</td>\n",
              "      <td>-0.077092</td>\n",
              "      <td>-0.084589</td>\n",
              "      <td>-0.027295</td>\n",
              "      <td>0.010467</td>\n",
              "      <td>0.007264</td>\n",
              "      <td>0.022436</td>\n",
              "      <td>-0.013894</td>\n",
              "      <td>0.017411</td>\n",
              "      <td>0.030805</td>\n",
              "      <td>-0.027151</td>\n",
              "      <td>0.081129</td>\n",
              "    </tr>\n",
              "    <tr>\n",
              "      <th>housing</th>\n",
              "      <td>-0.168700</td>\n",
              "      <td>-0.136965</td>\n",
              "      <td>-0.036345</td>\n",
              "      <td>-0.109168</td>\n",
              "      <td>0.011076</td>\n",
              "      <td>-0.077092</td>\n",
              "      <td>1.000000</td>\n",
              "      <td>0.076761</td>\n",
              "      <td>0.226392</td>\n",
              "      <td>-0.014770</td>\n",
              "      <td>0.219602</td>\n",
              "      <td>0.035051</td>\n",
              "      <td>0.006660</td>\n",
              "      <td>0.064497</td>\n",
              "      <td>-0.000840</td>\n",
              "      <td>-0.046370</td>\n",
              "      <td>-0.203888</td>\n",
              "    </tr>\n",
              "    <tr>\n",
              "      <th>loan</th>\n",
              "      <td>-0.031418</td>\n",
              "      <td>-0.067092</td>\n",
              "      <td>-0.062029</td>\n",
              "      <td>-0.073154</td>\n",
              "      <td>0.076434</td>\n",
              "      <td>-0.084589</td>\n",
              "      <td>0.076761</td>\n",
              "      <td>1.000000</td>\n",
              "      <td>0.006829</td>\n",
              "      <td>0.017269</td>\n",
              "      <td>0.025329</td>\n",
              "      <td>-0.001914</td>\n",
              "      <td>0.034722</td>\n",
              "      <td>-0.030416</td>\n",
              "      <td>-0.022668</td>\n",
              "      <td>0.026344</td>\n",
              "      <td>-0.110580</td>\n",
              "    </tr>\n",
              "    <tr>\n",
              "      <th>contact</th>\n",
              "      <td>0.027762</td>\n",
              "      <td>-0.087915</td>\n",
              "      <td>-0.060456</td>\n",
              "      <td>-0.132540</td>\n",
              "      <td>0.035709</td>\n",
              "      <td>-0.027295</td>\n",
              "      <td>0.226392</td>\n",
              "      <td>0.006829</td>\n",
              "      <td>1.000000</td>\n",
              "      <td>0.007943</td>\n",
              "      <td>0.289803</td>\n",
              "      <td>-0.018000</td>\n",
              "      <td>0.059258</td>\n",
              "      <td>-0.227785</td>\n",
              "      <td>-0.169919</td>\n",
              "      <td>0.257993</td>\n",
              "      <td>-0.249847</td>\n",
              "    </tr>\n",
              "    <tr>\n",
              "      <th>day</th>\n",
              "      <td>-0.000762</td>\n",
              "      <td>0.026589</td>\n",
              "      <td>-0.003642</td>\n",
              "      <td>0.016759</td>\n",
              "      <td>0.017342</td>\n",
              "      <td>0.010467</td>\n",
              "      <td>-0.014770</td>\n",
              "      <td>0.017269</td>\n",
              "      <td>0.007943</td>\n",
              "      <td>1.000000</td>\n",
              "      <td>-0.019840</td>\n",
              "      <td>-0.018511</td>\n",
              "      <td>0.137007</td>\n",
              "      <td>-0.077232</td>\n",
              "      <td>-0.058981</td>\n",
              "      <td>0.080221</td>\n",
              "      <td>-0.056326</td>\n",
              "    </tr>\n",
              "    <tr>\n",
              "      <th>month</th>\n",
              "      <td>-0.026130</td>\n",
              "      <td>-0.076011</td>\n",
              "      <td>-0.004070</td>\n",
              "      <td>-0.055868</td>\n",
              "      <td>0.000950</td>\n",
              "      <td>0.007264</td>\n",
              "      <td>0.219602</td>\n",
              "      <td>0.025329</td>\n",
              "      <td>0.289803</td>\n",
              "      <td>-0.019840</td>\n",
              "      <td>1.000000</td>\n",
              "      <td>-0.006482</td>\n",
              "      <td>-0.098123</td>\n",
              "      <td>0.033631</td>\n",
              "      <td>0.029283</td>\n",
              "      <td>-0.042456</td>\n",
              "      <td>-0.037121</td>\n",
              "    </tr>\n",
              "    <tr>\n",
              "      <th>duration</th>\n",
              "      <td>0.000189</td>\n",
              "      <td>0.002432</td>\n",
              "      <td>0.006781</td>\n",
              "      <td>-0.019122</td>\n",
              "      <td>-0.009760</td>\n",
              "      <td>0.022436</td>\n",
              "      <td>0.035051</td>\n",
              "      <td>-0.001914</td>\n",
              "      <td>-0.018000</td>\n",
              "      <td>-0.018511</td>\n",
              "      <td>-0.006482</td>\n",
              "      <td>1.000000</td>\n",
              "      <td>-0.041557</td>\n",
              "      <td>-0.027392</td>\n",
              "      <td>-0.026716</td>\n",
              "      <td>0.042171</td>\n",
              "      <td>0.451919</td>\n",
              "    </tr>\n",
              "    <tr>\n",
              "      <th>campaign</th>\n",
              "      <td>-0.005278</td>\n",
              "      <td>0.003104</td>\n",
              "      <td>-0.030794</td>\n",
              "      <td>-0.005327</td>\n",
              "      <td>0.030975</td>\n",
              "      <td>-0.013894</td>\n",
              "      <td>0.006660</td>\n",
              "      <td>0.034722</td>\n",
              "      <td>0.059258</td>\n",
              "      <td>0.137007</td>\n",
              "      <td>-0.098123</td>\n",
              "      <td>-0.041557</td>\n",
              "      <td>1.000000</td>\n",
              "      <td>-0.102726</td>\n",
              "      <td>-0.049699</td>\n",
              "      <td>0.112127</td>\n",
              "      <td>-0.128081</td>\n",
              "    </tr>\n",
              "    <tr>\n",
              "      <th>pdays</th>\n",
              "      <td>0.002774</td>\n",
              "      <td>-0.003385</td>\n",
              "      <td>0.031200</td>\n",
              "      <td>0.025165</td>\n",
              "      <td>-0.036282</td>\n",
              "      <td>0.017411</td>\n",
              "      <td>0.064497</td>\n",
              "      <td>-0.030416</td>\n",
              "      <td>-0.227785</td>\n",
              "      <td>-0.077232</td>\n",
              "      <td>0.033631</td>\n",
              "      <td>-0.027392</td>\n",
              "      <td>-0.102726</td>\n",
              "      <td>1.000000</td>\n",
              "      <td>0.507272</td>\n",
              "      <td>-0.806533</td>\n",
              "      <td>0.151593</td>\n",
              "    </tr>\n",
              "    <tr>\n",
              "      <th>previous</th>\n",
              "      <td>0.020169</td>\n",
              "      <td>0.012665</td>\n",
              "      <td>0.031281</td>\n",
              "      <td>0.022427</td>\n",
              "      <td>-0.035273</td>\n",
              "      <td>0.030805</td>\n",
              "      <td>-0.000840</td>\n",
              "      <td>-0.022668</td>\n",
              "      <td>-0.169919</td>\n",
              "      <td>-0.058981</td>\n",
              "      <td>0.029283</td>\n",
              "      <td>-0.026716</td>\n",
              "      <td>-0.049699</td>\n",
              "      <td>0.507272</td>\n",
              "      <td>1.000000</td>\n",
              "      <td>-0.549333</td>\n",
              "      <td>0.139867</td>\n",
              "    </tr>\n",
              "    <tr>\n",
              "      <th>poutcome</th>\n",
              "      <td>-0.002699</td>\n",
              "      <td>-0.004238</td>\n",
              "      <td>-0.039424</td>\n",
              "      <td>-0.040262</td>\n",
              "      <td>0.042357</td>\n",
              "      <td>-0.027151</td>\n",
              "      <td>-0.046370</td>\n",
              "      <td>0.026344</td>\n",
              "      <td>0.257993</td>\n",
              "      <td>0.080221</td>\n",
              "      <td>-0.042456</td>\n",
              "      <td>0.042171</td>\n",
              "      <td>0.112127</td>\n",
              "      <td>-0.806533</td>\n",
              "      <td>-0.549333</td>\n",
              "      <td>1.000000</td>\n",
              "      <td>-0.122369</td>\n",
              "    </tr>\n",
              "    <tr>\n",
              "      <th>deposit</th>\n",
              "      <td>0.034901</td>\n",
              "      <td>0.063395</td>\n",
              "      <td>0.067610</td>\n",
              "      <td>0.095948</td>\n",
              "      <td>-0.040680</td>\n",
              "      <td>0.081129</td>\n",
              "      <td>-0.203888</td>\n",
              "      <td>-0.110580</td>\n",
              "      <td>-0.249847</td>\n",
              "      <td>-0.056326</td>\n",
              "      <td>-0.037121</td>\n",
              "      <td>0.451919</td>\n",
              "      <td>-0.128081</td>\n",
              "      <td>0.151593</td>\n",
              "      <td>0.139867</td>\n",
              "      <td>-0.122369</td>\n",
              "      <td>1.000000</td>\n",
              "    </tr>\n",
              "  </tbody>\n",
              "</table>\n",
              "</div>"
            ],
            "text/plain": [
              "                age       job   marital  ...  previous  poutcome   deposit\n",
              "age        1.000000 -0.031603 -0.442782  ...  0.020169 -0.002699  0.034901\n",
              "job       -0.031603  1.000000  0.078314  ...  0.012665 -0.004238  0.063395\n",
              "marital   -0.442782  0.078314  1.000000  ...  0.031281 -0.039424  0.067610\n",
              "education -0.126018  0.147046  0.125845  ...  0.022427 -0.040262  0.095948\n",
              "default   -0.011425 -0.007066 -0.014691  ... -0.035273  0.042357 -0.040680\n",
              "balance    0.112300  0.028736 -0.002138  ...  0.030805 -0.027151  0.081129\n",
              "housing   -0.168700 -0.136965 -0.036345  ... -0.000840 -0.046370 -0.203888\n",
              "loan      -0.031418 -0.067092 -0.062029  ... -0.022668  0.026344 -0.110580\n",
              "contact    0.027762 -0.087915 -0.060456  ... -0.169919  0.257993 -0.249847\n",
              "day       -0.000762  0.026589 -0.003642  ... -0.058981  0.080221 -0.056326\n",
              "month     -0.026130 -0.076011 -0.004070  ...  0.029283 -0.042456 -0.037121\n",
              "duration   0.000189  0.002432  0.006781  ... -0.026716  0.042171  0.451919\n",
              "campaign  -0.005278  0.003104 -0.030794  ... -0.049699  0.112127 -0.128081\n",
              "pdays      0.002774 -0.003385  0.031200  ...  0.507272 -0.806533  0.151593\n",
              "previous   0.020169  0.012665  0.031281  ...  1.000000 -0.549333  0.139867\n",
              "poutcome  -0.002699 -0.004238 -0.039424  ... -0.549333  1.000000 -0.122369\n",
              "deposit    0.034901  0.063395  0.067610  ...  0.139867 -0.122369  1.000000\n",
              "\n",
              "[17 rows x 17 columns]"
            ]
          },
          "metadata": {
            "tags": []
          },
          "execution_count": 11
        }
      ]
    },
    {
      "cell_type": "code",
      "metadata": {
        "id": "frjklGpcnDRi",
        "outputId": "9ce2a4a4-7692-4d37-f7e2-06019af7dfe4",
        "colab": {
          "base_uri": "https://localhost:8080/",
          "height": 309
        }
      },
      "source": [
        "sns.heatmap(data.corr());"
      ],
      "execution_count": 12,
      "outputs": [
        {
          "output_type": "display_data",
          "data": {
            "image/png": "[encoded data removed]",
            "text/plain": [
              "<Figure size 432x288 with 2 Axes>"
            ]
          },
          "metadata": {
            "tags": [],
            "needs_background": "light"
          }
        }
      ]
    },
    {
      "cell_type": "code",
      "metadata": {
        "id": "1HSOYgrMzoPk",
        "outputId": "49c24ea4-97a8-49d1-e852-23cd6c0f47ae",
        "colab": {
          "base_uri": "https://localhost:8080/",
          "height": 224
        }
      },
      "source": [
        "data.pop(\"default\")\n",
        "data.pop(\"housing\")\n",
        "data.pop(\"contact\")\n",
        "data.pop(\"day\")\n",
        "data.pop(\"month\")"
      ],
      "execution_count": 16,
      "outputs": [
        {
          "output_type": "execute_result",
          "data": {
            "text/plain": [
              "0        8\n",
              "1        8\n",
              "2        8\n",
              "3        8\n",
              "4        8\n",
              "        ..\n",
              "11157    0\n",
              "11158    6\n",
              "11159    1\n",
              "11160    8\n",
              "11161    5\n",
              "Name: month, Length: 11162, dtype: int64"
            ]
          },
          "metadata": {
            "tags": []
          },
          "execution_count": 16
        }
      ]
    },
    {
      "cell_type": "code",
      "metadata": {
        "id": "Fj1bSq3izzY5",
        "outputId": "5e4b72e0-8b6c-4b3e-aaee-b58e4acbac76",
        "colab": {
          "base_uri": "https://localhost:8080/",
          "height": 204
        }
      },
      "source": [
        "data.head(5)"
      ],
      "execution_count": 17,
      "outputs": [
        {
          "output_type": "execute_result",
          "data": {
            "text/html": [
              "<div>\n",
              "<style scoped>\n",
              "    .dataframe tbody tr th:only-of-type {\n",
              "        vertical-align: middle;\n",
              "    }\n",
              "\n",
              "    .dataframe tbody tr th {\n",
              "        vertical-align: top;\n",
              "    }\n",
              "\n",
              "    .dataframe thead th {\n",
              "        text-align: right;\n",
              "    }\n",
              "</style>\n",
              "<table border=\"1\" class=\"dataframe\">\n",
              "  <thead>\n",
              "    <tr style=\"text-align: right;\">\n",
              "      <th></th>\n",
              "      <th>age</th>\n",
              "      <th>job</th>\n",
              "      <th>marital</th>\n",
              "      <th>education</th>\n",
              "      <th>balance</th>\n",
              "      <th>loan</th>\n",
              "      <th>duration</th>\n",
              "      <th>campaign</th>\n",
              "      <th>pdays</th>\n",
              "      <th>previous</th>\n",
              "      <th>poutcome</th>\n",
              "      <th>deposit</th>\n",
              "    </tr>\n",
              "  </thead>\n",
              "  <tbody>\n",
              "    <tr>\n",
              "      <th>0</th>\n",
              "      <td>59</td>\n",
              "      <td>0</td>\n",
              "      <td>1</td>\n",
              "      <td>1</td>\n",
              "      <td>2343</td>\n",
              "      <td>0</td>\n",
              "      <td>1042</td>\n",
              "      <td>1</td>\n",
              "      <td>-1</td>\n",
              "      <td>0</td>\n",
              "      <td>3</td>\n",
              "      <td>1</td>\n",
              "    </tr>\n",
              "    <tr>\n",
              "      <th>1</th>\n",
              "      <td>56</td>\n",
              "      <td>0</td>\n",
              "      <td>1</td>\n",
              "      <td>1</td>\n",
              "      <td>45</td>\n",
              "      <td>0</td>\n",
              "      <td>1467</td>\n",
              "      <td>1</td>\n",
              "      <td>-1</td>\n",
              "      <td>0</td>\n",
              "      <td>3</td>\n",
              "      <td>1</td>\n",
              "    </tr>\n",
              "    <tr>\n",
              "      <th>2</th>\n",
              "      <td>41</td>\n",
              "      <td>9</td>\n",
              "      <td>1</td>\n",
              "      <td>1</td>\n",
              "      <td>1270</td>\n",
              "      <td>0</td>\n",
              "      <td>1389</td>\n",
              "      <td>1</td>\n",
              "      <td>-1</td>\n",
              "      <td>0</td>\n",
              "      <td>3</td>\n",
              "      <td>1</td>\n",
              "    </tr>\n",
              "    <tr>\n",
              "      <th>3</th>\n",
              "      <td>55</td>\n",
              "      <td>7</td>\n",
              "      <td>1</td>\n",
              "      <td>1</td>\n",
              "      <td>2476</td>\n",
              "      <td>0</td>\n",
              "      <td>579</td>\n",
              "      <td>1</td>\n",
              "      <td>-1</td>\n",
              "      <td>0</td>\n",
              "      <td>3</td>\n",
              "      <td>1</td>\n",
              "    </tr>\n",
              "    <tr>\n",
              "      <th>4</th>\n",
              "      <td>54</td>\n",
              "      <td>0</td>\n",
              "      <td>1</td>\n",
              "      <td>2</td>\n",
              "      <td>184</td>\n",
              "      <td>0</td>\n",
              "      <td>673</td>\n",
              "      <td>2</td>\n",
              "      <td>-1</td>\n",
              "      <td>0</td>\n",
              "      <td>3</td>\n",
              "      <td>1</td>\n",
              "    </tr>\n",
              "  </tbody>\n",
              "</table>\n",
              "</div>"
            ],
            "text/plain": [
              "   age  job  marital  education  ...  pdays  previous  poutcome  deposit\n",
              "0   59    0        1          1  ...     -1         0         3        1\n",
              "1   56    0        1          1  ...     -1         0         3        1\n",
              "2   41    9        1          1  ...     -1         0         3        1\n",
              "3   55    7        1          1  ...     -1         0         3        1\n",
              "4   54    0        1          2  ...     -1         0         3        1\n",
              "\n",
              "[5 rows x 12 columns]"
            ]
          },
          "metadata": {
            "tags": []
          },
          "execution_count": 17
        }
      ]
    },
    {
      "cell_type": "markdown",
      "metadata": {
        "id": "z2KSUloD1cCs"
      },
      "source": [
        "# KNN"
      ]
    },
    {
      "cell_type": "code",
      "metadata": {
        "id": "B7Oth7fO7wCK"
      },
      "source": [
        "# menentukan mana independet kolom dan target kolom(class)\n",
        "X = data.drop([\"deposit\"], axis = 1)"
      ],
      "execution_count": 65,
      "outputs": []
    },
    {
      "cell_type": "code",
      "metadata": {
        "id": "ft8feRCdnnRy"
      },
      "source": [
        "Y = data[\"deposit\"]"
      ],
      "execution_count": 67,
      "outputs": []
    },
    {
      "cell_type": "code",
      "metadata": {
        "id": "pN0TDTqD29nl",
        "outputId": "61e83e0d-62b8-4384-98b8-6d5ca7faa618",
        "colab": {
          "base_uri": "https://localhost:8080/",
          "height": 421
        }
      },
      "source": [
        "acc = []\n",
        "# Will take some time\n",
        "from sklearn import metrics\n",
        "for i in range(1,40):\n",
        "    neigh = KNeighborsClassifier(n_neighbors = i).fit(X_train,Y_train)\n",
        "    yhat = neigh.predict(X_test)\n",
        "    acc.append(metrics.accuracy_score(Y_test, yhat))\n",
        "    \n",
        "plt.figure(figsize=(10,6))\n",
        "plt.plot(range(1,40),acc,color = 'blue',linestyle='dashed', \n",
        "         marker='o',markerfacecolor='red', markersize=10)\n",
        "plt.title('accuracy vs. K Value')\n",
        "plt.xlabel('K')\n",
        "plt.ylabel('Accuracy')\n",
        "print(\"Maximum accuracy:-\",max(acc),\"at K =\",acc.index(max(acc)))"
      ],
      "execution_count": 68,
      "outputs": [
        {
          "output_type": "stream",
          "text": [
            "Maximum accuracy:- 0.7552071668533035 at K = 17\n"
          ],
          "name": "stdout"
        },
        {
          "output_type": "display_data",
          "data": {
            "image/png": "[encoded data removed]",
            "text/plain": [
              "<Figure size 720x432 with 1 Axes>"
            ]
          },
          "metadata": {
            "tags": [],
            "needs_background": "light"
          }
        }
      ]
    },
    {
      "cell_type": "code",
      "metadata": {
        "id": "OMU7MFmi1g16"
      },
      "source": [
        "from sklearn.model_selection import train_test_split\n",
        "X_train, X_test, Y_train, Y_test = train_test_split(X, Y, test_size=0.4, random_state=4)"
      ],
      "execution_count": 69,
      "outputs": []
    },
    {
      "cell_type": "code",
      "metadata": {
        "id": "PVDokOmD7xEA",
        "outputId": "97c91c87-461e-4272-8516-edea29ef3eee",
        "colab": {
          "base_uri": "https://localhost:8080/",
          "height": 34
        }
      },
      "source": [
        "knn = KNeighborsClassifier(n_neighbors=17)\n",
        "knn.fit(X_train, Y_train)\n",
        "Y_pred_knn = knn.predict(X_test)\n",
        "print(metrics.accuracy_score(Y_test, Y_pred_knn))"
      ],
      "execution_count": 73,
      "outputs": [
        {
          "output_type": "stream",
          "text": [
            "0.7525195968645016\n"
          ],
          "name": "stdout"
        }
      ]
    },
    {
      "cell_type": "code",
      "metadata": {
        "id": "okw7wRwN7_PP",
        "outputId": "f0679ed5-4a88-4e62-d95e-9c0222534e3d",
        "colab": {
          "base_uri": "https://localhost:8080/",
          "height": 207
        }
      },
      "source": [
        "from sklearn.metrics import classification_report, confusion_matrix\n",
        "print(confusion_matrix(Y_test, Y_pred_knn))\n",
        "print(classification_report(Y_test, Y_pred_knn))"
      ],
      "execution_count": 74,
      "outputs": [
        {
          "output_type": "stream",
          "text": [
            "[[1841  509]\n",
            " [ 596 1519]]\n",
            "              precision    recall  f1-score   support\n",
            "\n",
            "           0       0.76      0.78      0.77      2350\n",
            "           1       0.75      0.72      0.73      2115\n",
            "\n",
            "    accuracy                           0.75      4465\n",
            "   macro avg       0.75      0.75      0.75      4465\n",
            "weighted avg       0.75      0.75      0.75      4465\n",
            "\n"
          ],
          "name": "stdout"
        }
      ]
    },
    {
      "cell_type": "code",
      "metadata": {
        "id": "OwPNALFcn3YR"
      },
      "source": [
        "# Lalu data dipisah menjadi 80% data training dan 20% data testing\n",
        "# lalu tiap data di  X dan Y dipisah menjadi data training dan testing\n",
        "\n",
        "# train_pct_index = int(0.8 * len(X))\n",
        "# X_train, X_test = X[:train_pct_index], X[train_pct_index:]\n",
        "# Y_train, Y_test = Y[:train_pct_index], Y[train_pct_index:]"
      ],
      "execution_count": 23,
      "outputs": []
    },
    {
      "cell_type": "code",
      "metadata": {
        "id": "B--yrD-HoNec"
      },
      "source": [
        "# Ditahap ini dilakukan fit antara independet kolom(train dan test) dengan library \n",
        "\n",
        "# from sklearn.preprocessing import StandardScaler\n",
        "# scaler = StandardScaler()\n",
        "# scaler.fit(X_train)\n",
        "\n",
        "# X_train = scaler.transform(X_train)\n",
        "# X_test = scaler.transform(X_test)"
      ],
      "execution_count": 51,
      "outputs": []
    },
    {
      "cell_type": "code",
      "metadata": {
        "id": "_V4ZPRONoVfs",
        "outputId": "e45014f7-63b0-44a9-a994-4582edb0ae34",
        "colab": {
          "base_uri": "https://localhost:8080/",
          "height": 69
        }
      },
      "source": [
        "# Lalu dilakukan pemodelan dengan KNN\n",
        "\n",
        "# from sklearn.neighbors import KNeighborsClassifier\n",
        "# classifier = KNeighborsClassifier(n_neighbors=2)\n",
        "# classifier.fit(X_train, Y_train)"
      ],
      "execution_count": 37,
      "outputs": [
        {
          "output_type": "execute_result",
          "data": {
            "text/plain": [
              "KNeighborsClassifier(algorithm='auto', leaf_size=30, metric='minkowski',\n",
              "                     metric_params=None, n_jobs=None, n_neighbors=2, p=2,\n",
              "                     weights='uniform')"
            ]
          },
          "metadata": {
            "tags": []
          },
          "execution_count": 37
        }
      ]
    },
    {
      "cell_type": "code",
      "metadata": {
        "id": "9lru72RuocUZ"
      },
      "source": [
        "# Y_pred_KNN = classifier.predict(X_test)"
      ],
      "execution_count": 38,
      "outputs": []
    },
    {
      "cell_type": "code",
      "metadata": {
        "id": "Sv3iVXD9ojKG",
        "outputId": "ca0e1353-ccba-40cc-b701-8f541fc7485c",
        "colab": {
          "base_uri": "https://localhost:8080/",
          "height": 261
        }
      },
      "source": [
        "#menampilkan confusion matriks dari hasil prediksi dan nilai akurasi\n",
        "\n",
        "# from sklearn.metrics import classification_report, confusion_matrix\n",
        "# print(confusion_matrix(Y_test, Y_pred_KNN))\n",
        "# print(classification_report(Y_test, Y_pred_KNN))"
      ],
      "execution_count": 39,
      "outputs": [
        {
          "output_type": "stream",
          "text": [
            "[[1829  404]\n",
            " [   0    0]]\n",
            "              precision    recall  f1-score   support\n",
            "\n",
            "           0       1.00      0.82      0.90      2233\n",
            "           1       0.00      0.00      0.00         0\n",
            "\n",
            "    accuracy                           0.82      2233\n",
            "   macro avg       0.50      0.41      0.45      2233\n",
            "weighted avg       1.00      0.82      0.90      2233\n",
            "\n"
          ],
          "name": "stdout"
        },
        {
          "output_type": "stream",
          "text": [
            "/usr/local/lib/python3.6/dist-packages/sklearn/metrics/_classification.py:1272: UndefinedMetricWarning: Recall and F-score are ill-defined and being set to 0.0 in labels with no true samples. Use `zero_division` parameter to control this behavior.\n",
            "  _warn_prf(average, modifier, msg_start, len(result))\n"
          ],
          "name": "stderr"
        }
      ]
    },
    {
      "cell_type": "markdown",
      "metadata": {
        "id": "vOwkBDq-suef"
      },
      "source": [
        "# DECISION TREE"
      ]
    },
    {
      "cell_type": "code",
      "metadata": {
        "id": "3Zem0p64swoS"
      },
      "source": [
        "# Import Module\n",
        "from sklearn import tree\n",
        "\n",
        "# Modeling Decision Tree\n",
        "dtc = tree.DecisionTreeClassifier(min_impurity_decrease=0.01)\n",
        "dtc.fit(X_train, Y_train)\n",
        "\n",
        "# Predict to Test Data \n",
        "Y_pred_dtc = dtc.predict(X_test)"
      ],
      "execution_count": 75,
      "outputs": []
    },
    {
      "cell_type": "code",
      "metadata": {
        "id": "9PP9K01ItHdL",
        "outputId": "9c46c2a9-7330-4833-88b0-6c9c8cbeac20",
        "colab": {
          "base_uri": "https://localhost:8080/",
          "height": 594
        }
      },
      "source": [
        "# Visualize Tree\n",
        "\n",
        "from sklearn.externals.six import StringIO  \n",
        "from IPython.display import Image  \n",
        "from sklearn.tree import export_graphviz\n",
        "import pydotplus\n",
        "\n",
        "dot_data = StringIO()\n",
        "export_graphviz(dtc, out_file=dot_data,  \n",
        "                filled=True, rounded=True,\n",
        "                special_characters=True,\n",
        "                class_names=['not-deposit', 'deposit'],\n",
        "                feature_names=['age', 'job',\t'marital', 'education',\n",
        "                               'balance',\t'loan','duration', 'campaign', 'pdays',\n",
        "                               'previous', 'poutcome'])\n",
        "graph = pydotplus.graph_from_dot_data(dot_data.getvalue())  \n",
        "Image(graph.create_png())"
      ],
      "execution_count": 76,
      "outputs": [
        {
          "output_type": "execute_result",
          "data": {
            "image/png": "[encoded data removed]",
            "text/plain": [
              "<IPython.core.display.Image object>"
            ]
          },
          "metadata": {
            "tags": []
          },
          "execution_count": 76
        }
      ]
    },
    {
      "cell_type": "code",
      "metadata": {
        "id": "eaVS1w2LuJvA",
        "outputId": "7aeea04b-105f-43a9-feb8-36687f30c15b",
        "colab": {
          "base_uri": "https://localhost:8080/",
          "height": 52
        }
      },
      "source": [
        "# Import Module\n",
        "from sklearn import metrics\n",
        "\n",
        "# Show the Confussion Matrix\n",
        "cm_dtc = metrics.confusion_matrix(Y_test, Y_pred_dtc)\n",
        "cm_dtc"
      ],
      "execution_count": 77,
      "outputs": [
        {
          "output_type": "execute_result",
          "data": {
            "text/plain": [
              "array([[1969,  381],\n",
              "       [ 663, 1452]])"
            ]
          },
          "metadata": {
            "tags": []
          },
          "execution_count": 77
        }
      ]
    },
    {
      "cell_type": "code",
      "metadata": {
        "id": "GQqKHqt8uT-l",
        "outputId": "b189d223-bda8-4447-8576-6000cbbda0f3",
        "colab": {
          "base_uri": "https://localhost:8080/",
          "height": 103
        }
      },
      "source": [
        "# Show the Accuracy, Precision, Recall\n",
        "acc_dtc = metrics.accuracy_score(Y_test, Y_pred_dtc)\n",
        "prec_dtc = metrics.precision_score(Y_test, Y_pred_dtc)\n",
        "rec_dtc = metrics.recall_score(Y_test, Y_pred_dtc)\n",
        "f1_dtc = metrics.f1_score(Y_test, Y_pred_dtc)\n",
        "kappa_dtc = metrics.cohen_kappa_score(Y_test, Y_pred_dtc)\n",
        "\n",
        "print(\"Accuracy:\", acc_dtc)\n",
        "print(\"Precision:\", prec_dtc)\n",
        "print(\"Recall:\", rec_dtc)\n",
        "print(\"F1 Score:\", f1_dtc)\n",
        "print(\"Cohens Kappa Score:\", kappa_dtc)"
      ],
      "execution_count": 78,
      "outputs": [
        {
          "output_type": "stream",
          "text": [
            "Accuracy: 0.7661814109742441\n",
            "Precision: 0.7921440261865794\n",
            "Recall: 0.6865248226950355\n",
            "F1 Score: 0.7355623100303952\n",
            "Cohens Kappa Score: 0.5279166071683564\n"
          ],
          "name": "stdout"
        }
      ]
    },
    {
      "cell_type": "markdown",
      "metadata": {
        "id": "o8DnzI5W8rxr"
      },
      "source": [
        "# Naive Bayes"
      ]
    },
    {
      "cell_type": "code",
      "metadata": {
        "id": "NX6-Fu1R8uR2"
      },
      "source": [
        "# Import Module\n",
        "from sklearn.naive_bayes import GaussianNB \n",
        "\n",
        "# Modeling Naive Bayes Classifier\n",
        "gnb = GaussianNB()\n",
        "gnb.fit(X_train, Y_train)\n",
        "\n",
        "# Predict to Test Data\n",
        "Y_pred_gnb= gnb.predict(X_test)"
      ],
      "execution_count": 79,
      "outputs": []
    },
    {
      "cell_type": "code",
      "metadata": {
        "id": "IaiokMmW83fV",
        "outputId": "ca5bd536-fec4-4d27-aba4-467278398ebf",
        "colab": {
          "base_uri": "https://localhost:8080/",
          "height": 52
        }
      },
      "source": [
        "# Show the Confussion Matrix\n",
        "cm_gnb = metrics.confusion_matrix(Y_test, Y_pred_gnb)\n",
        "cm_gnb"
      ],
      "execution_count": 80,
      "outputs": [
        {
          "output_type": "execute_result",
          "data": {
            "text/plain": [
              "array([[1843,  507],\n",
              "       [ 776, 1339]])"
            ]
          },
          "metadata": {
            "tags": []
          },
          "execution_count": 80
        }
      ]
    },
    {
      "cell_type": "code",
      "metadata": {
        "id": "zNgvQIsR87A-",
        "outputId": "62991626-ce9e-44f9-fcdd-93321c7b21a7",
        "colab": {
          "base_uri": "https://localhost:8080/",
          "height": 103
        }
      },
      "source": [
        "# Show the Accuracy, Precision, Recall\n",
        "acc_gnb = metrics.accuracy_score(Y_test, Y_pred_gnb)\n",
        "prec_gnb = metrics.precision_score(Y_test, Y_pred_gnb)\n",
        "rec_gnb = metrics.recall_score(Y_test, Y_pred_gnb)\n",
        "f1_gnb = metrics.f1_score(Y_test, Y_pred_gnb)\n",
        "kappa_gnb = metrics.cohen_kappa_score(Y_test, Y_pred_gnb)\n",
        "\n",
        "print(\"Accuracy:\", acc_gnb)\n",
        "print(\"Precision:\", prec_gnb)\n",
        "print(\"Recall:\", rec_gnb)\n",
        "print(\"F1 Score:\", f1_gnb)\n",
        "print(\"Cohens Kappa Score:\", kappa_gnb)"
      ],
      "execution_count": 81,
      "outputs": [
        {
          "output_type": "stream",
          "text": [
            "Accuracy: 0.7126539753639418\n",
            "Precision: 0.7253521126760564\n",
            "Recall: 0.633096926713948\n",
            "F1 Score: 0.6760918959858622\n",
            "Cohens Kappa Score: 0.4200233161238134\n"
          ],
          "name": "stdout"
        }
      ]
    },
    {
      "cell_type": "markdown",
      "metadata": {
        "id": "1K3VaYeY9OZm"
      },
      "source": [
        "# Random Forest"
      ]
    },
    {
      "cell_type": "code",
      "metadata": {
        "id": "iU1o2pcy-nJ0"
      },
      "source": [
        "from sklearn.model_selection import train_test_split\n",
        "\n",
        "X_train, X_test, Y_train, Y_test = train_test_split(X, Y, test_size=0.2, random_state=0)"
      ],
      "execution_count": 95,
      "outputs": []
    },
    {
      "cell_type": "code",
      "metadata": {
        "id": "wRYu1-Sd-qS1"
      },
      "source": [
        "from sklearn.preprocessing import StandardScaler\n",
        "\n",
        "sc = StandardScaler()\n",
        "X_train = sc.fit_transform(X_train)\n",
        "X_test = sc.transform(X_test)"
      ],
      "execution_count": 96,
      "outputs": []
    },
    {
      "cell_type": "code",
      "metadata": {
        "id": "FsA7cqiE-yo1"
      },
      "source": [
        "from sklearn.ensemble import RandomForestRegressor\n",
        "\n",
        "regressor = RandomForestRegressor(n_estimators=20, random_state=0)\n",
        "regressor.fit(X_train, Y_train)\n",
        "y_pred_RF = regressor.predict(X_test)"
      ],
      "execution_count": 97,
      "outputs": []
    },
    {
      "cell_type": "code",
      "metadata": {
        "id": "bxIAwpNA-1-z",
        "outputId": "333af8b8-1a66-4bc2-a515-7ef5a980c943",
        "colab": {
          "base_uri": "https://localhost:8080/",
          "height": 224
        }
      },
      "source": [
        "from sklearn.metrics import classification_report, confusion_matrix, accuracy_score\n",
        "\n",
        "print(confusion_matrix(Y_test ,y_pred_RF.round()))\n",
        "print(classification_report(Y_test,y_pred_RF.round()))\n",
        "print(accuracy_score(Y_test, y_pred_RF.round()))"
      ],
      "execution_count": 101,
      "outputs": [
        {
          "output_type": "stream",
          "text": [
            "[[970 235]\n",
            " [238 790]]\n",
            "              precision    recall  f1-score   support\n",
            "\n",
            "           0       0.80      0.80      0.80      1205\n",
            "           1       0.77      0.77      0.77      1028\n",
            "\n",
            "    accuracy                           0.79      2233\n",
            "   macro avg       0.79      0.79      0.79      2233\n",
            "weighted avg       0.79      0.79      0.79      2233\n",
            "\n",
            "0.7881773399014779\n"
          ],
          "name": "stdout"
        }
      ]
    }
  ]
}